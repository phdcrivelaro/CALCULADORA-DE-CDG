{
  "nbformat": 4,
  "nbformat_minor": 0,
  "metadata": {
    "colab": {
      "provenance": [],
      "authorship_tag": "ABX9TyMv9bKSayvofX07xZgA7OLk",
      "include_colab_link": true
    },
    "kernelspec": {
      "name": "python3",
      "display_name": "Python 3"
    },
    "language_info": {
      "name": "python"
    }
  },
  "cells": [
    {
      "cell_type": "markdown",
      "metadata": {
        "id": "view-in-github",
        "colab_type": "text"
      },
      "source": [
        "<a href=\"https://colab.research.google.com/github/phdcrivelaro/CALCULADORA-DE-CDG/blob/main/Correlacao%20Petro4%20e%20Vale3%20mes%20marco%2024.ipynb\" target=\"_parent\"><img src=\"https://colab.research.google.com/assets/colab-badge.svg\" alt=\"Open In Colab\"/></a>"
      ]
    },
    {
      "cell_type": "code",
      "execution_count": 1,
      "metadata": {
        "colab": {
          "base_uri": "https://localhost:8080/"
        },
        "id": "O_-zkRIBVIPw",
        "outputId": "ddaab02e-af95-4285-d37e-d53f63bb7e49"
      },
      "outputs": [
        {
          "output_type": "stream",
          "name": "stderr",
          "text": [
            "[*********************100%%**********************]  1 of 1 completed\n",
            "[*********************100%%**********************]  1 of 1 completed"
          ]
        },
        {
          "output_type": "stream",
          "name": "stdout",
          "text": [
            "Coeficiente de correlação entre Petrobras e Vale: 0.8412951479948699\n"
          ]
        },
        {
          "output_type": "stream",
          "name": "stderr",
          "text": [
            "\n"
          ]
        }
      ],
      "source": [
        "import yfinance as yf\n",
        "import pandas as pd\n",
        "\n",
        "# Definindo os símbolos das ações\n",
        "petrobras = 'PETR4.SA'\n",
        "vale = 'VALE3.SA'\n",
        "\n",
        "# Definindo o intervalo de datas\n",
        "start_date = '2024-03-01'\n",
        "end_date = '2024-03-31'\n",
        "\n",
        "# Importando os dados\n",
        "data_petrobras = yf.download(petrobras, start=start_date, end=end_date)\n",
        "data_vale = yf.download(vale, start=start_date, end=end_date)\n",
        "\n",
        "# Criando um DataFrame para combinar os dados de fechamento ajustado\n",
        "data_combined = pd.DataFrame({\n",
        "    'Petrobras': data_petrobras['Adj Close'],\n",
        "    'Vale': data_vale['Adj Close']\n",
        "})\n",
        "\n",
        "# Calculando a correlação entre as ações da Petrobras e da Vale\n",
        "correlation = data_combined.corr().iloc[0, 1]\n",
        "print(\"Coeficiente de correlação entre Petrobras e Vale:\", correlation)\n"
      ]
    }
  ]
}